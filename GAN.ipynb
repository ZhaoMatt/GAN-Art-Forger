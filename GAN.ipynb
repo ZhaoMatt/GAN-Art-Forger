{
  "nbformat": 4,
  "nbformat_minor": 0,
  "metadata": {
    "colab": {
      "name": "GAN.ipynb",
      "version": "0.3.2",
      "provenance": [],
      "collapsed_sections": [],
      "toc_visible": true,
      "include_colab_link": true
    },
    "kernelspec": {
      "name": "python3",
      "display_name": "Python 3"
    },
    "accelerator": "GPU"
  },
  "cells": [
    {
      "cell_type": "markdown",
      "metadata": {
        "id": "view-in-github",
        "colab_type": "text"
      },
      "source": [
        "[View in Colaboratory](https://colab.research.google.com/github/ZhaoMatt/GAN-Art-Forger/blob/master/GAN.ipynb)"
      ]
    },
    {
      "metadata": {
        "id": "SUjqPaHNp2rn",
        "colab_type": "code",
        "colab": {
          "base_uri": "https://localhost:8080/",
          "height": 306
        },
        "outputId": "2337b644-aa15-471d-ffa6-600bba50429b"
      },
      "cell_type": "code",
      "source": [
        "!nvidia-smi"
      ],
      "execution_count": 0,
      "outputs": [
        {
          "output_type": "stream",
          "text": [
            "Thu Oct  4 03:17:07 2018       \n",
            "+-----------------------------------------------------------------------------+\n",
            "| NVIDIA-SMI 396.44                 Driver Version: 396.44                    |\n",
            "|-------------------------------+----------------------+----------------------+\n",
            "| GPU  Name        Persistence-M| Bus-Id        Disp.A | Volatile Uncorr. ECC |\n",
            "| Fan  Temp  Perf  Pwr:Usage/Cap|         Memory-Usage | GPU-Util  Compute M. |\n",
            "|===============================+======================+======================|\n",
            "|   0  Tesla K80           Off  | 00000000:00:04.0 Off |                    0 |\n",
            "| N/A   32C    P0    64W / 149W |      0MiB / 11441MiB |    100%      Default |\n",
            "+-------------------------------+----------------------+----------------------+\n",
            "                                                                               \n",
            "+-----------------------------------------------------------------------------+\n",
            "| Processes:                                                       GPU Memory |\n",
            "|  GPU       PID   Type   Process name                             Usage      |\n",
            "|=============================================================================|\n",
            "|  No running processes found                                                 |\n",
            "+-----------------------------------------------------------------------------+\n"
          ],
          "name": "stdout"
        }
      ]
    },
    {
      "metadata": {
        "id": "bk0q2e45p--l",
        "colab_type": "code",
        "colab": {
          "base_uri": "https://localhost:8080/",
          "height": 34
        },
        "outputId": "86de2889-5206-4529-8f3d-bbff826aee25"
      },
      "cell_type": "code",
      "source": [
        "from keras.datasets import mnist\n",
        "from keras.layers import Input, Dense, Reshape, Flatten, Dropout\n",
        "from keras.layers import BatchNormalization, Activation, ZeroPadding2D\n",
        "from keras.layers.advanced_activations import LeakyReLU\n",
        "from keras.layers.convolutional import UpSampling2D, Conv2D\n",
        "from keras.models import Sequential, Model\n",
        "from keras.optimizers import Adam\n",
        "\n",
        "import matplotlib.pyplot as plt\n",
        "\n",
        "import sys\n",
        "\n",
        "import numpy as np"
      ],
      "execution_count": 0,
      "outputs": [
        {
          "output_type": "stream",
          "text": [
            "Using TensorFlow backend.\n"
          ],
          "name": "stderr"
        }
      ]
    },
    {
      "metadata": {
        "id": "qYeB5qCWMJZK",
        "colab_type": "code",
        "colab": {}
      },
      "cell_type": "code",
      "source": [
        "class GAN():\n",
        "  def __init__(self):\n",
        "    self.img_rows = 28\n",
        "    self.img_clos = 28\n",
        "    self.channels = 1\n",
        "    self.img_shape = (self.img_rows, self.img_clos, self.channels)\n",
        "    self.latent_dim = 100\n",
        "    \n",
        "    optimizer = Adam(0.001,0.9)\n",
        "    \n",
        "    # Build and compile the discriminator\n",
        "    self.discriminator = self.build_discriminator()\n",
        "    self.discriminator.compile(loss='binary_crossentropy',\n",
        "                                optimizer=optimizer,\n",
        "                                metrics=['accuracy'])\n",
        "    \n",
        "    # Build the generator\n",
        "    self.generator = self.build_generator()\n",
        "    \n",
        "    # The generator takes noise as input and generates imgs\n",
        "    z = Input(shape=(self.latent_dim,))\n",
        "    img = self.generator(z)\n",
        "    \n",
        "    # For the combine model we will only train the generator\n",
        "    self.discriminator.trainable = False\n",
        "    \n",
        "    # The discriminator takes generated images as input and determines validity\n",
        "    validity = self.discriminator(img)\n",
        "    \n",
        "    # The combined model (stacked generator and discriminator)\n",
        "    # Trains the generator to fool the discriminator\n",
        "    self.combined = Model(z, validity)\n",
        "    self.combined.compile(loss='binary_crossentropy', optimizer=optimizer)\n",
        "    \n",
        "  \n",
        "  def build_generator(self):\n",
        "    model = Sequential()\n",
        "    model.add(Dense(256, input_dim = self.latent_dim))\n",
        "    model.add(LeakyReLU(alpha = 0.2))\n",
        "    model.add(BatchNormalization(momentum=0.8))\n",
        "    model.add(Dense(512, input_dim = self.latent_dim))\n",
        "    model.add(LeakyReLU(alpha = 0.2))\n",
        "    model.add(BatchNormalization(momentum=0.8))\n",
        "    model.add(Dense(1024, input_dim = self.latent_dim))\n",
        "    model.add(LeakyReLU(alpha = 0.2))\n",
        "    model.add(BatchNormalization(momentum=0.8))\n",
        "    model.add(Dense(np.prod(self.img_shape), activation='tanh'))\n",
        "    model.add(Reshape(self.img_shape))\n",
        "    \n",
        "    model.summary()\n",
        "    \n",
        "    noise = Input(shape=(self.latent_dim,))\n",
        "    img = model(noise)              \n",
        "    \n",
        "    return Model(noise, img)\n",
        "  \n",
        "  def build_discriminator(self):\n",
        "    model = Sequential()\n",
        "    model.add(Flatten(input_shape=self.img_shape))\n",
        "    model.add(Dense(512))\n",
        "    model.add(LeakyReLU(alpha=0.2))\n",
        "    model.add(Dense(256))\n",
        "    model.add(LeakyReLU(alpha=0.2))\n",
        "    model.add(Dense(1,activation='sigmoid'))\n",
        "    model.summary()\n",
        "    \n",
        "    img=Input(shape=self.img_shape)\n",
        "    validity = model(img)\n",
        "    \n",
        "    return Model(img, validity)\n",
        "  \n",
        "  def train(self, epochs, batch_size=128, sample_interval=50):\n",
        "\n",
        "        # Load the dataset\n",
        "        (X_train, _), (_, _) = mnist.load_data()\n",
        "\n",
        "        # Rescale -1 to 1\n",
        "        X_train = X_train / 127.5 - 1.\n",
        "        X_train = np.expand_dims(X_train, axis=3)\n",
        "\n",
        "        # Adversarial ground truths\n",
        "        valid = np.ones((batch_size, 1))\n",
        "        fake = np.zeros((batch_size, 1))\n",
        "\n",
        "        for epoch in range(epochs):\n",
        "\n",
        "            # ---------------------\n",
        "            #  Train Discriminator\n",
        "            # ---------------------\n",
        "\n",
        "            # Select a random batch of images\n",
        "            idx = np.random.randint(0, X_train.shape[0], batch_size)\n",
        "            imgs = X_train[idx]\n",
        "\n",
        "            noise = np.random.normal(0, 1, (batch_size, self.latent_dim))\n",
        "\n",
        "            # Generate a batch of new images\n",
        "            gen_imgs = self.generator.predict(noise)\n",
        "\n",
        "            # Train the discriminator\n",
        "            d_loss_real = self.discriminator.train_on_batch(imgs, valid)\n",
        "            d_loss_fake = self.discriminator.train_on_batch(gen_imgs, fake)\n",
        "            d_loss = 0.5 * np.add(d_loss_real, d_loss_fake)\n",
        "\n",
        "            # ---------------------\n",
        "            #  Train Generator\n",
        "            # ---------------------\n",
        "\n",
        "            noise = np.random.normal(0, 1, (batch_size, self.latent_dim))\n",
        "\n",
        "            # Train the generator (to have the discriminator label samples as valid)\n",
        "            g_loss = self.combined.train_on_batch(noise, valid)\n",
        "\n",
        "            # Plot the progress\n",
        "            print (\"%d [D loss: %f, acc.: %.2f%%] [G loss: %f]\" % (epoch, d_loss[0], 100*d_loss[1], g_loss))\n",
        "            \n",
        "            # If at save interval => save generated image samples\n",
        "            if epoch % sample_interval == 0 or epoch == epochs-1:\n",
        "                self.sample_images(epoch)\n",
        "\n",
        "  def sample_images(self, epoch):\n",
        "      r, c = 5, 5\n",
        "      noise = np.random.normal(0, 1, (r * c, self.latent_dim))\n",
        "      gen_imgs = self.generator.predict(noise)\n",
        "\n",
        "      # Rescale images 0 - 1\n",
        "      gen_imgs = 0.5 * gen_imgs + 0.5\n",
        "\n",
        "      fig, axs = plt.subplots(r, c)\n",
        "      cnt = 0\n",
        "      for i in range(r):\n",
        "          for j in range(c):\n",
        "              axs[i,j].imshow(gen_imgs[cnt, :,:,0], cmap='gray')\n",
        "              axs[i,j].axis('off')\n",
        "              cnt += 1\n",
        "      fig.savefig(\"images/%d.png\" % epoch)\n",
        "      plt.close()\n",
        "  \n",
        "  "
      ],
      "execution_count": 0,
      "outputs": []
    },
    {
      "metadata": {
        "id": "PRvg_IvZNo1p",
        "colab_type": "code",
        "colab": {}
      },
      "cell_type": "code",
      "source": [
        "!mkdir images"
      ],
      "execution_count": 0,
      "outputs": []
    },
    {
      "metadata": {
        "id": "rlOuRDoDNmCx",
        "colab_type": "code",
        "colab": {}
      },
      "cell_type": "code",
      "source": [
        "if __name__ == '__main__':\n",
        "    gan = GAN()\n",
        "    gan.train(epochs=30000, batch_size=32, sample_interval=200)"
      ],
      "execution_count": 0,
      "outputs": []
    },
    {
      "metadata": {
        "id": "3xOkqQHsCwRH",
        "colab_type": "code",
        "colab": {
          "base_uri": "https://localhost:8080/",
          "height": 71
        },
        "outputId": "eaf470d9-d192-4da6-8b9b-3bc1400a8240"
      },
      "cell_type": "code",
      "source": [
        "sys.stdout = open('log.txt','wt')\n",
        "gan=GAN()\n",
        "gan.train(epochs=30000, batch_size=32, sample_interval=200)"
      ],
      "execution_count": 0,
      "outputs": [
        {
          "output_type": "stream",
          "text": [
            "/usr/local/lib/python3.6/dist-packages/keras/engine/training.py:975: UserWarning: Discrepancy between trainable weights and collected trainable weights, did you set `model.trainable` without calling `model.compile` after ?\n",
            "  'Discrepancy between trainable weights and collected trainable'\n"
          ],
          "name": "stderr"
        }
      ]
    },
    {
      "metadata": {
        "id": "Pob-SKf-Feol",
        "colab_type": "text"
      },
      "cell_type": "markdown",
      "source": [
        ""
      ]
    }
  ]
}